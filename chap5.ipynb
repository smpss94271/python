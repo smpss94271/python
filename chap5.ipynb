{
 "cells": [
  {
   "cell_type": "markdown",
   "metadata": {},
   "source": [
    "#  numpy套件"
   ]
  },
  {
   "cell_type": "markdown",
   "metadata": {},
   "source": [
    "   <font color=Darkblue> \n",
    "    \n",
    "### 矩陣 * 3"
   ]
  },
  {
   "cell_type": "code",
   "execution_count": 8,
   "metadata": {},
   "outputs": [
    {
     "name": "stdout",
     "output_type": "stream",
     "text": [
      "[1, 2, 3, 4, 5, 1, 2, 3, 4, 5, 1, 2, 3, 4, 5]\n"
     ]
    }
   ],
   "source": [
    "a_list=[1,2,3,4,5]\n",
    "print(a_list*3)"
   ]
  },
  {
   "cell_type": "markdown",
   "metadata": {},
   "source": [
    "<font color=Darkblue> \n",
    "\n",
    "### numpy 套件 ndarray 型態"
   ]
  },
  {
   "cell_type": "code",
   "execution_count": 9,
   "metadata": {},
   "outputs": [
    {
     "name": "stdout",
     "output_type": "stream",
     "text": [
      "[ 3  6  9 12 15]\n"
     ]
    }
   ],
   "source": [
    "#numpy 套件 ndarray 型態 ， 提供element-wise的操作\n",
    "import numpy as np \n",
    "a_ndarray=np.array([1,2,3,4,5])\n",
    "print(a_ndarray*3)"
   ]
  },
  {
   "cell_type": "code",
   "execution_count": 10,
   "metadata": {},
   "outputs": [
    {
     "name": "stdout",
     "output_type": "stream",
     "text": [
      "<class 'numpy.ndarray'>\n",
      "1\n",
      "(5,)\n",
      "int32\n"
     ]
    }
   ],
   "source": [
    "print(type(a_ndarray))\n",
    "print(a_ndarray.ndim)  #ndarray的維度\n",
    "print(a_ndarray.shape) #ndarray的shape\n",
    "print(a_ndarray.dtype) #ndarray的資料型態\n"
   ]
  },
  {
   "cell_type": "code",
   "execution_count": 11,
   "metadata": {},
   "outputs": [
    {
     "name": "stdout",
     "output_type": "stream",
     "text": [
      "[0. 0. 0. 0. 0. 0.]\n",
      "[[0. 0. 0. 0. 0. 0.]\n",
      " [0. 0. 0. 0. 0. 0.]]\n",
      "[[[2.88854907e+214 1.81271043e-152]\n",
      "  [5.72938864e-313 1.42990075e+248]\n",
      "  [9.59836917e-312 4.83245960e+276]\n",
      "  [2.65666903e-258 8.48798316e-313]\n",
      "  [6.01346930e-154 9.59836685e-312]\n",
      "  [7.34518269e+223 1.96086537e+243]]\n",
      "\n",
      " [[1.01855798e-312 7.27458162e+199]\n",
      "  [9.59836917e-312 1.42990110e+248]\n",
      "  [7.34483868e+223 2.33419537e-313]\n",
      "  [1.96086509e+243 9.59836686e-312]\n",
      "  [1.17076186e+214 6.01347002e-154]\n",
      "  [4.45619116e-313 1.88891968e+219]]]\n",
      "[0 1 2 3 4 5 6 7 8 9]\n"
     ]
    }
   ],
   "source": [
    "z=np.zeros(6)\n",
    "print(z) #六個元素都為0的1d ndarray\n",
    "print(np.zeros((2,6))) #12個元素都為0的2d ndarray\n",
    "print(np.empty((2,6,2))) #24個元素都未初始化的值\n",
    "print(np.arange(10)) #10個元素為0-9的1d ndarray"
   ]
  },
  {
   "cell_type": "markdown",
   "metadata": {},
   "source": [
    "# numpy 的進階操作"
   ]
  },
  {
   "cell_type": "code",
   "execution_count": 12,
   "metadata": {},
   "outputs": [
    {
     "name": "stdout",
     "output_type": "stream",
     "text": [
      "[0 1 2 3 4 5 6 7 8 9]\n",
      "0\n",
      "[0 1 2 3 4]\n"
     ]
    }
   ],
   "source": [
    "my_array=np.arange(10)\n",
    "print(my_array)\n",
    "print(my_array[0])\n",
    "print(my_array[0:5])"
   ]
  },
  {
   "cell_type": "code",
   "execution_count": 16,
   "metadata": {},
   "outputs": [
    {
     "name": "stdout",
     "output_type": "stream",
     "text": [
      "[[0 1 2 3 4]\n",
      " [5 6 7 8 9]]\n",
      "[5 6 7 8 9]\n",
      "[1 6]\n",
      "6\n",
      "[7 8 9]\n",
      "[5 6 7]\n",
      "[6 7]\n"
     ]
    }
   ],
   "source": [
    "#2維numpy取值\n",
    "my_2d_array = np.array ( [np.arange(0,5), np.arange(5,10)])\n",
    "print(my_2d_array)\n",
    "print(my_2d_array[1,:])#第二列的資料\n",
    "print(my_2d_array[:,1])#第二欄的資料\n",
    "print(my_2d_array[1,1])#第二列第二欄的資料\n",
    "print(my_2d_array[1,2:])\n",
    "print(my_2d_array[1,:3])\n",
    "print(my_2d_array[1,1:-2])"
   ]
  },
  {
   "cell_type": "code",
   "execution_count": 15,
   "metadata": {},
   "outputs": [
    {
     "name": "stdout",
     "output_type": "stream",
     "text": [
      "['Modern Web' 'Devops' 'cloud' 'big data' 'security' '自我挑戰']\n",
      "[56  8 19 14  6 71]\n"
     ]
    }
   ],
   "source": [
    "#假設有六個組別\"Modern Web\",\"Devops\",\"cloud\",\"big data\",\"security\",\"自我挑戰\"\n",
    "#其參加人數分別為56,8,19,14,6,71人\n",
    "groups=[\"Modern Web\",\"Devops\",\"cloud\",\"big data\",\"security\",\"自我挑戰\"]\n",
    "ironman=[ 56,8,19,14,6,71 ]\n",
    "groups_array=np.array(groups)\n",
    "ironman_array=np.array(ironman)\n",
    "print(groups_array)\n",
    "print(ironman_array)"
   ]
  },
  {
   "cell_type": "code",
   "execution_count": 17,
   "metadata": {},
   "outputs": [
    {
     "name": "stdout",
     "output_type": "stream",
     "text": [
      "[ True False  True  True False  True]\n",
      "['Modern Web' 'cloud' 'big data' '自我挑戰']\n",
      "[ True  True  True  True  True False]\n",
      "[56  8 19 14  6]\n"
     ]
    }
   ],
   "source": [
    "# 用人數去篩選組別\n",
    "print(ironman_array>=10)\n",
    "print(groups_array[ironman_array>=10])\n",
    "print(groups_array != '自我挑戰')\n",
    "print(ironman_array[groups_array != '自我挑戰'])"
   ]
  },
  {
   "cell_type": "markdown",
   "metadata": {},
   "source": [
    "# Ndarray 轉置"
   ]
  },
  {
   "cell_type": "code",
   "execution_count": 18,
   "metadata": {},
   "outputs": [
    {
     "name": "stdout",
     "output_type": "stream",
     "text": [
      "[0 1 2 3 4 5 6 7 8 9]\n",
      "[[0 1 2 3 4]\n",
      " [5 6 7 8 9]]\n",
      "[[0 5]\n",
      " [1 6]\n",
      " [2 7]\n",
      " [3 8]\n",
      " [4 9]]\n"
     ]
    }
   ],
   "source": [
    "my_1d_array=np.arange(10)\n",
    "print(my_1d_array)\n",
    "my_2d_array=my_1d_array.reshape((2,5))\n",
    "print(my_2d_array)\n",
    "print(my_2d_array.T)"
   ]
  },
  {
   "cell_type": "code",
   "execution_count": 21,
   "metadata": {},
   "outputs": [
    {
     "name": "stdout",
     "output_type": "stream",
     "text": [
      "[ 0  1  2  3  4  5  6  7  8  9 10 11 12 13 14 15 16 17 18 19 20 21 22 23]\n"
     ]
    }
   ],
   "source": [
    "print(np.arange(24))"
   ]
  },
  {
   "cell_type": "code",
   "execution_count": 22,
   "metadata": {},
   "outputs": [
    {
     "name": "stdout",
     "output_type": "stream",
     "text": [
      "[[ 0  1  2  3  4  5]\n",
      " [ 6  7  8  9 10 11]\n",
      " [12 13 14 15 16 17]\n",
      " [18 19 20 21 22 23]]\n"
     ]
    }
   ],
   "source": [
    "print(np.arange(24).reshape(4,6))"
   ]
  },
  {
   "cell_type": "code",
   "execution_count": 19,
   "metadata": {},
   "outputs": [
    {
     "name": "stdout",
     "output_type": "stream",
     "text": [
      "[56.  8. 19. 14.  6. nan]\n"
     ]
    }
   ],
   "source": [
    "#ndarray nan (空值)\n",
    "nan_array =  np.array([56,8,19,14,6, np.nan ])\n",
    "print(nan_array)"
   ]
  },
  {
   "cell_type": "code",
   "execution_count": null,
   "metadata": {},
   "outputs": [],
   "source": []
  }
 ],
 "metadata": {
  "kernelspec": {
   "display_name": "Python 3",
   "language": "python",
   "name": "python3"
  },
  "language_info": {
   "codemirror_mode": {
    "name": "ipython",
    "version": 3
   },
   "file_extension": ".py",
   "mimetype": "text/x-python",
   "name": "python",
   "nbconvert_exporter": "python",
   "pygments_lexer": "ipython3",
   "version": "3.7.1"
  }
 },
 "nbformat": 4,
 "nbformat_minor": 2
}
