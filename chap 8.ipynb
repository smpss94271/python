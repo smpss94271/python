{
 "cells": [
  {
   "cell_type": "markdown",
   "metadata": {},
   "source": [
    "# 自訂函數"
   ]
  },
  {
   "cell_type": "code",
   "execution_count": 6,
   "metadata": {},
   "outputs": [
    {
     "name": "stdout",
     "output_type": "stream",
     "text": [
      "314.1592653589793\n"
     ]
    }
   ],
   "source": [
    "import math\n",
    "\n",
    "def circle (radius):\n",
    "    area = radius * radius * math.pi\n",
    "    return  area\n",
    "\n",
    "print( circle(10) )"
   ]
  },
  {
   "cell_type": "code",
   "execution_count": 9,
   "metadata": {},
   "outputs": [
    {
     "name": "stdout",
     "output_type": "stream",
     "text": [
      "請輸入圓的半徑12.5\n",
      "圓面積為: 490.8738521234052\n"
     ]
    }
   ],
   "source": [
    "import math\n",
    "\n",
    "def circle (radius):\n",
    "    area = radius * radius * math.pi\n",
    "    return  area\n",
    "\n",
    "r = input('請輸入圓的半徑')\n",
    "print( \"圓面積為:\",circle(float(r)) )"
   ]
  },
  {
   "cell_type": "code",
   "execution_count": 13,
   "metadata": {},
   "outputs": [
    {
     "name": "stdout",
     "output_type": "stream",
     "text": [
      "[92, 68, 80, 60, 8, 14, 78, 22, 82, 26]\n",
      "[8, 14, 22, 26, 60, 68, 78, 80, 82, 92]\n"
     ]
    }
   ],
   "source": [
    "import ranhttp://localhost:8890/notebooks/chap%208.ipynb#dom\n",
    "\n",
    "def exchange_sort(input_list):\n",
    "    a=input_list\n",
    "    for i in range (0,len(input_list)-1):\n",
    "        for j in range (i+1, len(input_list)):\n",
    "            if a[i] > a[j]:\n",
    "                a[i], a[j] = a[j], a[i]\n",
    "    return a\n",
    "\n",
    "my_vector = random.sample(range(0,100),10)\n",
    "print(my_vector)\n",
    "print(exchange_sort(my_vector))"
   ]
  },
  {
   "cell_type": "code",
   "execution_count": 14,
   "metadata": {},
   "outputs": [
    {
     "name": "stdout",
     "output_type": "stream",
     "text": [
      "[98, 12, 26, 75, 35, 85, 50, 9, 68, 33]\n",
      "[98, 85, 75, 68, 50, 35, 33, 26, 12, 9]\n"
     ]
    }
   ],
   "source": [
    "import random\n",
    "\n",
    "def exchange_sort(input_list):\n",
    "    a=input_list\n",
    "    for i in range (0,len(input_list)-1):\n",
    "        for j in range (i+1, len(input_list)):\n",
    "            if a[i] < a[j]:\n",
    "                a[i], a[j] = a[j], a[i]\n",
    "    return a\n",
    "\n",
    "my_vector = random.sample(range(0,100),10)\n",
    "print(my_vector)\n",
    "print(exchange_sort(my_vector))"
   ]
  },
  {
   "cell_type": "code",
   "execution_count": null,
   "metadata": {},
   "outputs": [],
   "source": []
  }
 ],
 "metadata": {
  "kernelspec": {
   "display_name": "Python 3",
   "language": "python",
   "name": "python3"
  },
  "language_info": {
   "codemirror_mode": {
    "name": "ipython",
    "version": 3
   },
   "file_extension": ".py",
   "mimetype": "text/x-python",
   "name": "python",
   "nbconvert_exporter": "python",
   "pygments_lexer": "ipython3",
   "version": "3.7.1"
  }
 },
 "nbformat": 4,
 "nbformat_minor": 2
}
