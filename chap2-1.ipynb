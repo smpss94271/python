{
 "cells": [
  {
   "cell_type": "markdown",
   "metadata": {},
   "source": [
    "# 商用程式設計\n",
    "\n",
    "  2019/03/14"
   ]
  },
  {
   "cell_type": "code",
   "execution_count": 1,
   "metadata": {},
   "outputs": [
    {
     "name": "stdout",
     "output_type": "stream",
     "text": [
      "8\n"
     ]
    }
   ],
   "source": [
    "#單行註解\n",
    "a=3\n",
    "b=5\n",
    "print(a+b)"
   ]
  },
  {
   "cell_type": "code",
   "execution_count": 2,
   "metadata": {},
   "outputs": [
    {
     "name": "stdout",
     "output_type": "stream",
     "text": [
      "8\n"
     ]
    }
   ],
   "source": [
    "#單行註解\n",
    "a=3\n",
    "b=5\n",
    "print(a+b)"
   ]
  },
  {
   "cell_type": "code",
   "execution_count": 11,
   "metadata": {},
   "outputs": [
    {
     "name": "stdout",
     "output_type": "stream",
     "text": [
      "8\n"
     ]
    }
   ],
   "source": [
    "'''\n",
    "第一航\n",
    "第二航\n",
    "多行駐節\n",
    "註解\n",
    "'''\n",
    "a=3\n",
    "b=5\n",
    "print(a+b)"
   ]
  },
  {
   "cell_type": "code",
   "execution_count": 5,
   "metadata": {
    "scrolled": false
   },
   "outputs": [
    {
     "name": "stdout",
     "output_type": "stream",
     "text": [
      "11\n"
     ]
    }
   ],
   "source": [
    "x=1\n",
    "y=10\n",
    "x=x+y\n",
    "print(x)"
   ]
  },
  {
   "cell_type": "code",
   "execution_count": 1,
   "metadata": {},
   "outputs": [
    {
     "name": "stdout",
     "output_type": "stream",
     "text": [
      "10\n",
      "1\n"
     ]
    }
   ],
   "source": [
    "x=1\n",
    "y=10\n",
    "\n",
    "x,y =y,x\n",
    "print(x)\n",
    "print(y)"
   ]
  },
  {
   "cell_type": "markdown",
   "metadata": {},
   "source": [
    "平行設定"
   ]
  },
  {
   "cell_type": "code",
   "execution_count": 2,
   "metadata": {},
   "outputs": [
    {
     "name": "stdout",
     "output_type": "stream",
     "text": [
      "3\n",
      "4\n",
      "5\n"
     ]
    }
   ],
   "source": [
    "x,y,z=3,4,5\n",
    "\n",
    "print(x)\n",
    "print(y)\n",
    "print(z)"
   ]
  },
  {
   "cell_type": "markdown",
   "metadata": {},
   "source": [
    "# 商用程式設計\n",
    "\n",
    "  2019/03/21"
   ]
  },
  {
   "cell_type": "code",
   "execution_count": 3,
   "metadata": {},
   "outputs": [
    {
     "name": "stdout",
     "output_type": "stream",
     "text": [
      "4 8 125\n"
     ]
    }
   ],
   "source": [
    "x,y,z=3,4,5\n",
    "x +=1\n",
    "y *=2\n",
    "z **=3\n",
    "print(x,y,z)"
   ]
  },
  {
   "cell_type": "markdown",
   "metadata": {},
   "source": [
    "#變數的應用\n",
    "Q:邊長3,4,5的三角形，其面積大小為何?"
   ]
  },
  {
   "cell_type": "code",
   "execution_count": 8,
   "metadata": {},
   "outputs": [
    {
     "name": "stdout",
     "output_type": "stream",
     "text": [
      "14.696938456699067\n"
     ]
    }
   ],
   "source": [
    "import math\n",
    "d=math.sqrt(((3+4+5)/2))*((((3+4+5)/2))-3)*((((3+4+5)/2))-4)*((((3+4+5)/2))-5)\n",
    "print(d)"
   ]
  },
  {
   "cell_type": "code",
   "execution_count": 7,
   "metadata": {},
   "outputs": [
    {
     "name": "stdout",
     "output_type": "stream",
     "text": [
      "6.0\n"
     ]
    }
   ],
   "source": [
    "import math\n",
    "a,b,c=3,4,5\n",
    "s=(a+b+c)/2\n",
    "d=math.sqrt(s*(s-a)*(s-b)*(s-c))\n",
    "print(d)"
   ]
  },
  {
   "cell_type": "markdown",
   "metadata": {},
   "source": [
    "python 動態類型變數 使用前不需要宣告"
   ]
  },
  {
   "cell_type": "code",
   "execution_count": 9,
   "metadata": {},
   "outputs": [
    {
     "name": "stdout",
     "output_type": "stream",
     "text": [
      "<class 'int'>\n"
     ]
    },
    {
     "data": {
      "text/plain": [
       "140732200629168"
      ]
     },
     "execution_count": 9,
     "metadata": {},
     "output_type": "execute_result"
    }
   ],
   "source": [
    "X=254\n",
    "print(type(x))\n",
    "id(x)"
   ]
  },
  {
   "cell_type": "code",
   "execution_count": 10,
   "metadata": {},
   "outputs": [
    {
     "name": "stdout",
     "output_type": "stream",
     "text": [
      "<class 'str'>\n"
     ]
    },
    {
     "data": {
      "text/plain": [
       "1452287422680"
      ]
     },
     "execution_count": 10,
     "metadata": {},
     "output_type": "execute_result"
    }
   ],
   "source": [
    "x='write'\n",
    "print(type(x))\n",
    "id(x)"
   ]
  },
  {
   "cell_type": "markdown",
   "metadata": {},
   "source": [
    "數值資料的計算"
   ]
  },
  {
   "cell_type": "code",
   "execution_count": 13,
   "metadata": {},
   "outputs": [
    {
     "name": "stdout",
     "output_type": "stream",
     "text": [
      "95.42587685278995\n"
     ]
    }
   ],
   "source": [
    "#半徑4.5 高4.5 的圓椎體面積為何\n",
    "import math\n",
    "print((4.5*4.5*math.pi*4.5)/3)"
   ]
  },
  {
   "cell_type": "code",
   "execution_count": 14,
   "metadata": {},
   "outputs": [
    {
     "name": "stdout",
     "output_type": "stream",
     "text": [
      "5.333333333333333\n",
      "5\n",
      "1\n"
     ]
    }
   ],
   "source": [
    "x=16\n",
    "y=3\n",
    "print(x/y)\n",
    "print(x//y) #求商\n",
    "print(x%y)  #求餘數"
   ]
  },
  {
   "cell_type": "code",
   "execution_count": 15,
   "metadata": {},
   "outputs": [
    {
     "name": "stdout",
     "output_type": "stream",
     "text": [
      "True\n",
      "False\n",
      "20\n"
     ]
    }
   ],
   "source": [
    "#關係運算\n",
    "x=10\n",
    "print(20==20)\n",
    "y=20\n",
    "print(x==y)\n",
    "x=y\n",
    "print(x)"
   ]
  },
  {
   "cell_type": "code",
   "execution_count": 16,
   "metadata": {},
   "outputs": [
    {
     "name": "stdout",
     "output_type": "stream",
     "text": [
      "True\n"
     ]
    }
   ],
   "source": [
    "#級聯比較\n",
    "a,b,c=10,20,30\n",
    "print(a<=b<=c)"
   ]
  },
  {
   "cell_type": "code",
   "execution_count": 17,
   "metadata": {},
   "outputs": [
    {
     "name": "stdout",
     "output_type": "stream",
     "text": [
      "0.0015926269999999576\n"
     ]
    }
   ],
   "source": [
    "x=3.141592627\n",
    "print(x-3.14) #必正確之值略小"
   ]
  },
  {
   "cell_type": "code",
   "execution_count": 18,
   "metadata": {},
   "outputs": [
    {
     "name": "stdout",
     "output_type": "stream",
     "text": [
      "False\n",
      "True\n",
      "True\n"
     ]
    }
   ],
   "source": [
    "y=2010\n",
    "print(y%4==0 and y%100!=0 or y%400==0)\n",
    "y=2012\n",
    "print(y%4==0 and y%100!=0 or y%400==0)\n",
    "y=2000\n",
    "print(y%4==0 and y%100!=0 or y%400==0)"
   ]
  },
  {
   "cell_type": "code",
   "execution_count": 19,
   "metadata": {},
   "outputs": [
    {
     "name": "stdout",
     "output_type": "stream",
     "text": [
      "123\n",
      "123.0\n",
      "123\n",
      "The value of x is32.5and y is40000\n",
      "The value of x is32.5and y is40000\n"
     ]
    }
   ],
   "source": [
    "#型態轉換\n",
    "x=12\n",
    "y=float\n",
    "print(int('123'))\n",
    "print(float('123'))\n",
    "print(int(123.333))\n",
    "x=10*3.25 #32.5\n",
    "y=200*200 #40000\n",
    "s='The value of x is'+ str(x)+'and y is'+ str(y)\n",
    "s1='The value of x is'+ repr(x)+'and y is'+ repr(y)\n",
    "print(s)\n",
    "print(s1)"
   ]
  },
  {
   "cell_type": "code",
   "execution_count": 20,
   "metadata": {},
   "outputs": [
    {
     "name": "stdout",
     "output_type": "stream",
     "text": [
      "3.141592653589793\n",
      "8.0\n",
      "26.423892221536985\n",
      "5.0\n"
     ]
    }
   ],
   "source": [
    "#非內置模組\n",
    "import math\n",
    "print(math.pi)\n",
    "print(math.pow(2,3))\n",
    "print(8.3*10.58*math.sin(37.0/180*math.pi)/2)\n",
    "print(math.sqrt(25))"
   ]
  },
  {
   "cell_type": "code",
   "execution_count": 22,
   "metadata": {},
   "outputs": [
    {
     "name": "stdout",
     "output_type": "stream",
     "text": [
      "請輸入半徑：10\n",
      "314.1592653589793\n"
     ]
    }
   ],
   "source": [
    "#算圓面積\n",
    "import math\n",
    "r=input(\"請輸入半徑：\")\n",
    "area=float(r)*float(r)*math.pi\n",
    "print(area)\n"
   ]
  }
 ],
 "metadata": {
  "kernelspec": {
   "display_name": "Python 3",
   "language": "python",
   "name": "python3"
  },
  "language_info": {
   "codemirror_mode": {
    "name": "ipython",
    "version": 3
   },
   "file_extension": ".py",
   "mimetype": "text/x-python",
   "name": "python",
   "nbconvert_exporter": "python",
   "pygments_lexer": "ipython3",
   "version": "3.7.1"
  }
 },
 "nbformat": 4,
 "nbformat_minor": 2
}
